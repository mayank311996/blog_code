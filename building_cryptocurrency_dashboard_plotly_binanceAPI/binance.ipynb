{
 "cells": [
  {
   "cell_type": "code",
   "execution_count": 2,
   "id": "prostate-staff",
   "metadata": {},
   "outputs": [
    {
     "name": "stdout",
     "output_type": "stream",
     "text": [
      "{'makerCommission': 0, 'takerCommission': 0, 'buyerCommission': 0, 'sellerCommission': 0, 'canTrade': True, 'canWithdraw': False, 'canDeposit': False, 'updateTime': 1613863611579, 'accountType': 'SPOT', 'balances': [{'asset': 'BNB', 'free': '1000.00000000', 'locked': '0.00000000'}, {'asset': 'BTC', 'free': '1.00000000', 'locked': '0.00000000'}, {'asset': 'BUSD', 'free': '10000.00000000', 'locked': '0.00000000'}, {'asset': 'ETH', 'free': '100.00000000', 'locked': '0.00000000'}, {'asset': 'LTC', 'free': '500.00000000', 'locked': '0.00000000'}, {'asset': 'TRX', 'free': '500000.00000000', 'locked': '0.00000000'}, {'asset': 'USDT', 'free': '10000.00000000', 'locked': '0.00000000'}, {'asset': 'XRP', 'free': '50000.00000000', 'locked': '0.00000000'}], 'permissions': ['SPOT']}\n"
     ]
    }
   ],
   "source": [
    "# Importing libraries \n",
    "from binance.client import Client\n",
    "import configparser\n",
    "\n",
    "# Loading keys from config file\n",
    "config = configparser.ConfigParser()\n",
    "config.read_file(open('/home/venom/GitHub/blog_code/building_cryptocurrency_dashboard_plotly_binanceAPI/secret.cfg'))\n",
    "test_api_key = config.get('BINANCE', 'TEST_API_KEY')\n",
    "test_secret_key = config.get('BINANCE', 'TEST_SECRET_KEY')\n",
    "\n",
    "client = Client(test_api_key, test_secret_key)\n",
    "\n",
    "client.API_URL = 'https://testnet.binance.vision/api'  # To change endpoint URL for test account  \n",
    "\n",
    "info = client.get_account()  # Getting account info\n",
    "\n",
    "print(info)"
   ]
  },
  {
   "cell_type": "code",
   "execution_count": 3,
   "id": "decent-french",
   "metadata": {},
   "outputs": [
    {
     "name": "stdout",
     "output_type": "stream",
     "text": [
      "{'asset': 'ETH', 'free': '100.00000000', 'locked': '0.00000000'}\n"
     ]
    }
   ],
   "source": [
    "balance = client.get_asset_balance(asset='ETH')\n",
    "\n",
    "print(balance)"
   ]
  },
  {
   "cell_type": "code",
   "execution_count": null,
   "id": "returning-sleep",
   "metadata": {},
   "outputs": [],
   "source": []
  },
  {
   "cell_type": "code",
   "execution_count": null,
   "id": "exclusive-smooth",
   "metadata": {},
   "outputs": [],
   "source": []
  },
  {
   "cell_type": "code",
   "execution_count": 6,
   "id": "fresh-premium",
   "metadata": {},
   "outputs": [
    {
     "name": "stdout",
     "output_type": "stream",
     "text": [
      "1502928000000\n",
      "[1503014400000, '302.00000000', '311.79000000', '283.94000000', '293.96000000', '9537.84646000', 1503100799999, '2858946.50935390', 5658, '7452.43542000', '2240813.26122640', '55329.57432378']\n"
     ]
    }
   ],
   "source": [
    "# Importing libraries \n",
    "from binance.client import Client\n",
    "import configparser\n",
    "import pandas as pd\n",
    "\n",
    "# Loading keys from config file\n",
    "config = configparser.ConfigParser()\n",
    "config.read_file(open('/home/venom/GitHub/blog_code/building_cryptocurrency_dashboard_plotly_binanceAPI/secret.cfg'))\n",
    "actual_api_key = config.get('BINANCE', 'ACTUAL_API_KEY')\n",
    "actual_secret_key = config.get('BINANCE', 'ACTUAL_SECRET_KEY')\n",
    "\n",
    "client = Client(actual_api_key, actual_secret_key)\n",
    "\n",
    "# Getting earliest timestamp availble (on Binance)\n",
    "earliest_timestamp = client._get_earliest_valid_timestamp('ETHUSDT', '1d')  # Here \"ETHUSDT\" is a trading pair and \"1d\" is time interval\n",
    "print(earliest_timestamp)\n",
    "\n",
    "# Getting historical data (candle data or kline)\n",
    "candle = client.get_historical_klines(\"ETHUSDT\", \"1d\", earliest_timestamp, limit=1000)\n",
    "\n",
    "print(candle[1])"
   ]
  },
  {
   "cell_type": "code",
   "execution_count": 7,
   "id": "radical-oakland",
   "metadata": {},
   "outputs": [
    {
     "name": "stdout",
     "output_type": "stream",
     "text": [
      "                     open           high            low          close  \\\n",
      "dateTime                                                                 \n",
      "2021-02-12  1785.83000000  1864.88000000  1739.88000000  1840.26000000   \n",
      "2021-02-13  1840.24000000  1871.72000000  1765.00000000  1814.96000000   \n",
      "2021-02-14  1815.25000000  1850.00000000  1784.11000000  1800.42000000   \n",
      "2021-02-15  1800.03000000  1835.72000000  1655.67000000  1779.25000000   \n",
      "2021-02-16  1779.33000000  1827.28000000  1724.00000000  1781.99000000   \n",
      "2021-02-17  1781.99000000  1855.00000000  1733.01000000  1849.88000000   \n",
      "2021-02-18  1849.70000000  1950.50000000  1849.69000000  1939.61000000   \n",
      "2021-02-19  1938.91000000  1972.82000000  1891.00000000  1955.00000000   \n",
      "2021-02-20  1955.46000000  2042.34000000  1803.14000000  1913.00000000   \n",
      "2021-02-21  1912.90000000  1975.32000000  1883.01000000  1952.64000000   \n",
      "\n",
      "                      volume               closeTime     quoteAssetVolume  \\\n",
      "dateTime                                                                    \n",
      "2021-02-12   909600.20653000 2021-02-12 23:59:59.999  1635426867.77409270   \n",
      "2021-02-13   767589.07285000 2021-02-13 23:59:59.999  1395594093.28399760   \n",
      "2021-02-14   675261.77873000 2021-02-14 23:59:59.999  1230043295.03428380   \n",
      "2021-02-15  1053474.57879000 2021-02-15 23:59:59.999  1860338371.89740780   \n",
      "2021-02-16   817493.47513000 2021-02-16 23:59:59.999  1455884891.92438010   \n",
      "2021-02-17   795711.63311000 2021-02-17 23:59:59.999  1437546812.97183170   \n",
      "2021-02-18   937227.10191000 2021-02-18 23:59:59.999  1787383532.10237610   \n",
      "2021-02-19   793404.41150000 2021-02-19 23:59:59.999  1533991632.12954610   \n",
      "2021-02-20  1261315.81279000 2021-02-20 23:59:59.999  2493836246.48714560   \n",
      "2021-02-21   580608.20394000 2021-02-21 23:59:59.999  1126431729.73269290   \n",
      "\n",
      "            numberOfTrades  takerBuyBaseVol     takerBuyQuoteVol ignore  \n",
      "dateTime                                                                 \n",
      "2021-02-12          996495  460779.83709000   829217927.34420890      0  \n",
      "2021-02-13          853189  372008.25141000   676531918.54325300      0  \n",
      "2021-02-14          714827  334005.33344000   608556979.10253330      0  \n",
      "2021-02-15         1086589  511771.37271000   904087834.75423730      0  \n",
      "2021-02-16          826125  389395.78700000   693804838.74920430      0  \n",
      "2021-02-17          862461  412387.45021000   745568293.76172300      0  \n",
      "2021-02-18         1053661  493607.02549000   941541216.78113600      0  \n",
      "2021-02-19          988320  388954.85277000   752267904.16996680      0  \n",
      "2021-02-20         1329067  624716.42408000  1236782122.34460490      0  \n",
      "2021-02-21          652968  300489.65136000   582982438.26314140      0  \n"
     ]
    }
   ],
   "source": [
    "eth_df = pd.DataFrame(candle, columns=['dateTime', 'open', 'high', 'low', 'close', 'volume', 'closeTime', 'quoteAssetVolume', 'numberOfTrades', 'takerBuyBaseVol', 'takerBuyQuoteVol', 'ignore'])\n",
    "eth_df.dateTime = pd.to_datetime(eth_df.dateTime, unit='ms')\n",
    "eth_df.closeTime = pd.to_datetime(eth_df.closeTime, unit='ms')\n",
    "eth_df.set_index('dateTime', inplace=True)\n",
    "eth_df.to_csv('eth_candle.csv')\n",
    "\n",
    "print(eth_df.tail(10))"
   ]
  },
  {
   "cell_type": "code",
   "execution_count": null,
   "id": "certified-membrane",
   "metadata": {},
   "outputs": [],
   "source": []
  }
 ],
 "metadata": {
  "kernelspec": {
   "display_name": "Python 3",
   "language": "python",
   "name": "python3"
  },
  "language_info": {
   "codemirror_mode": {
    "name": "ipython",
    "version": 3
   },
   "file_extension": ".py",
   "mimetype": "text/x-python",
   "name": "python",
   "nbconvert_exporter": "python",
   "pygments_lexer": "ipython3",
   "version": "3.7.4"
  }
 },
 "nbformat": 4,
 "nbformat_minor": 5
}
