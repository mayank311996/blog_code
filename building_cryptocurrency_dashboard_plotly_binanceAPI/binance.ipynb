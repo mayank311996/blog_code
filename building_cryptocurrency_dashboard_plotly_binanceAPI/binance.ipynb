{
 "cells": [
  {
   "cell_type": "code",
   "execution_count": 2,
   "id": "cubic-coupon",
   "metadata": {},
   "outputs": [
    {
     "name": "stdout",
     "output_type": "stream",
     "text": [
      "{'makerCommission': 0, 'takerCommission': 0, 'buyerCommission': 0, 'sellerCommission': 0, 'canTrade': True, 'canWithdraw': False, 'canDeposit': False, 'updateTime': 1613863611579, 'accountType': 'SPOT', 'balances': [{'asset': 'BNB', 'free': '1000.00000000', 'locked': '0.00000000'}, {'asset': 'BTC', 'free': '1.00000000', 'locked': '0.00000000'}, {'asset': 'BUSD', 'free': '10000.00000000', 'locked': '0.00000000'}, {'asset': 'ETH', 'free': '100.00000000', 'locked': '0.00000000'}, {'asset': 'LTC', 'free': '500.00000000', 'locked': '0.00000000'}, {'asset': 'TRX', 'free': '500000.00000000', 'locked': '0.00000000'}, {'asset': 'USDT', 'free': '10000.00000000', 'locked': '0.00000000'}, {'asset': 'XRP', 'free': '50000.00000000', 'locked': '0.00000000'}], 'permissions': ['SPOT']}\n"
     ]
    }
   ],
   "source": [
    "# Importing libraries \n",
    "from binance.client import Client\n",
    "import configparser\n",
    "\n",
    "# Loading keys from config file\n",
    "config = configparser.ConfigParser()\n",
    "config.read_file(open('/home/venom/GitHub/blog_code/building_cryptocurrency_dashboard_plotly_binanceAPI/secret.cfg'))\n",
    "test_api_key = config.get('BINANCE', 'TEST_API_KEY')\n",
    "test_secret_key = config.get('BINANCE', 'TEST_SECRET_KEY')\n",
    "\n",
    "client = Client(test_api_key, test_secret_key)\n",
    "\n",
    "client.API_URL = 'https://testnet.binance.vision/api'  # To change endpoint URL for test account  \n",
    "\n",
    "info = client.get_account()  # Getting account info\n",
    "\n",
    "print(info)"
   ]
  },
  {
   "cell_type": "code",
   "execution_count": 3,
   "id": "designed-wright",
   "metadata": {},
   "outputs": [
    {
     "name": "stdout",
     "output_type": "stream",
     "text": [
      "{'asset': 'ETH', 'free': '100.00000000', 'locked': '0.00000000'}\n"
     ]
    }
   ],
   "source": [
    "balance = client.get_asset_balance(asset='ETH')\n",
    "\n",
    "print(balance)"
   ]
  },
  {
   "cell_type": "code",
   "execution_count": null,
   "id": "sacred-polls",
   "metadata": {},
   "outputs": [],
   "source": []
  },
  {
   "cell_type": "code",
   "execution_count": null,
   "id": "separated-click",
   "metadata": {},
   "outputs": [],
   "source": []
  },
  {
   "cell_type": "code",
   "execution_count": 6,
   "id": "monthly-flush",
   "metadata": {},
   "outputs": [
    {
     "name": "stdout",
     "output_type": "stream",
     "text": [
      "1502928000000\n",
      "[1503014400000, '302.00000000', '311.79000000', '283.94000000', '293.96000000', '9537.84646000', 1503100799999, '2858946.50935390', 5658, '7452.43542000', '2240813.26122640', '55329.57432378']\n"
     ]
    }
   ],
   "source": [
    "# Importing libraries \n",
    "from binance.client import Client\n",
    "import configparser\n",
    "import pandas as pd\n",
    "\n",
    "# Loading keys from config file\n",
    "config = configparser.ConfigParser()\n",
    "config.read_file(open('/home/venom/GitHub/blog_code/building_cryptocurrency_dashboard_plotly_binanceAPI/secret.cfg'))\n",
    "actual_api_key = config.get('BINANCE', 'ACTUAL_API_KEY')\n",
    "actual_secret_key = config.get('BINANCE', 'ACTUAL_SECRET_KEY')\n",
    "\n",
    "client = Client(actual_api_key, actual_secret_key)\n",
    "\n",
    "# Getting earliest timestamp availble (on Binance)\n",
    "earliest_timestamp = client._get_earliest_valid_timestamp('ETHUSDT', '1d')  # Here \"ETHUSDT\" is a trading pair and \"1d\" is time interval\n",
    "print(earliest_timestamp)\n",
    "\n",
    "# Getting historical data (candle data or kline)\n",
    "candle = client.get_historical_klines(\"ETHUSDT\", \"1d\", earliest_timestamp, limit=1000)\n",
    "\n",
    "print(candle[1])"
   ]
  },
  {
   "cell_type": "code",
   "execution_count": 5,
   "id": "matched-disclosure",
   "metadata": {},
   "outputs": [],
   "source": [
    "# candle"
   ]
  },
  {
   "cell_type": "code",
   "execution_count": null,
   "id": "streaming-brief",
   "metadata": {},
   "outputs": [],
   "source": []
  }
 ],
 "metadata": {
  "kernelspec": {
   "display_name": "Python 3",
   "language": "python",
   "name": "python3"
  },
  "language_info": {
   "codemirror_mode": {
    "name": "ipython",
    "version": 3
   },
   "file_extension": ".py",
   "mimetype": "text/x-python",
   "name": "python",
   "nbconvert_exporter": "python",
   "pygments_lexer": "ipython3",
   "version": "3.7.4"
  }
 },
 "nbformat": 4,
 "nbformat_minor": 5
}
